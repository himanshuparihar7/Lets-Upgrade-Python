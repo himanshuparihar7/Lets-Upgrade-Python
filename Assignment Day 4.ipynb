{
 "cells": [
  {
   "cell_type": "code",
   "execution_count": 13,
   "metadata": {},
   "outputs": [
    {
     "name": "stdout",
     "output_type": "stream",
     "text": [
      "Occurence of substring is 3\n",
      "Index value is  5\n"
     ]
    }
   ],
   "source": [
    "             #Assignment 1\n",
    "    \n",
    "str1=\"what we think we become ; we are python programmer \"  \n",
    "\n",
    "print(\"Occerance of substring is\" ,str1.count(\"we\"))\n",
    "print(\"Index value is \",str1.index(\"we\"))\n"
   ]
  },
  {
   "cell_type": "code",
   "execution_count": 42,
   "metadata": {},
   "outputs": [
    {
     "name": "stdout",
     "output_type": "stream",
     "text": [
      "False\n",
      "True\n",
      "False\n",
      "True\n"
     ]
    }
   ],
   "source": [
    "          #Assignment 2\n",
    "str_1=\"I LOVE PYTHON\"\n",
    "print(str_1.islower())\n",
    "\n",
    "str_2=\"i love python\"\n",
    "print(str_2.islower())    \n",
    "\n",
    "str_3=\"what we think we become\"    \n",
    "print(str_2.isupper())\n",
    "\n",
    "\n",
    "str_4=\"WE ARE PYTHON PROGRAMMER\"\n",
    "print(str_4.isupper())\n",
    "    "
   ]
  },
  {
   "cell_type": "code",
   "execution_count": null,
   "metadata": {},
   "outputs": [],
   "source": []
  }
 ],
 "metadata": {
  "kernelspec": {
   "display_name": "Python 3",
   "language": "python",
   "name": "python3"
  },
  "language_info": {
   "codemirror_mode": {
    "name": "ipython",
    "version": 3
   },
   "file_extension": ".py",
   "mimetype": "text/x-python",
   "name": "python",
   "nbconvert_exporter": "python",
   "pygments_lexer": "ipython3",
   "version": "3.7.6"
  }
 },
 "nbformat": 4,
 "nbformat_minor": 4
}
